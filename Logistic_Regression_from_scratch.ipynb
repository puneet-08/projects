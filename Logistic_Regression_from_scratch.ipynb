{
  "nbformat": 4,
  "nbformat_minor": 0,
  "metadata": {
    "colab": {
      "name": "Logistic Regression from scratch.ipynb",
      "provenance": [],
      "authorship_tag": "ABX9TyO/UPxRHLsBEDjd9pz5OsvN",
      "include_colab_link": true
    },
    "kernelspec": {
      "name": "python3",
      "display_name": "Python 3"
    },
    "language_info": {
      "name": "python"
    }
  },
  "cells": [
    {
      "cell_type": "markdown",
      "metadata": {
        "id": "view-in-github",
        "colab_type": "text"
      },
      "source": [
        "<a href=\"https://colab.research.google.com/github/puneet-08/projects/blob/main/Logistic_Regression_from_scratch.ipynb\" target=\"_parent\"><img src=\"https://colab.research.google.com/assets/colab-badge.svg\" alt=\"Open In Colab\"/></a>"
      ]
    },
    {
      "cell_type": "markdown",
      "source": [
        "**Logistic Regression**"
      ],
      "metadata": {
        "id": "bY5XDQYLHeaU"
      }
    },
    {
      "cell_type": "code",
      "metadata": {
        "id": "Q5VBY3LTq1Xu"
      },
      "source": [
        "import numpy as np\n",
        "import pandas as pd\n",
        "import matplotlib.pyplot as plt"
      ],
      "execution_count": 1,
      "outputs": []
    },
    {
      "cell_type": "markdown",
      "source": [
        "Making Dataset"
      ],
      "metadata": {
        "id": "Fbtm3Uq4HjHl"
      }
    },
    {
      "cell_type": "code",
      "metadata": {
        "id": "Cx1nUUSiwqQz"
      },
      "source": [
        "from sklearn.datasets import make_blobs\n",
        "X, y = make_blobs(n_samples = 200, n_features=2, centers = 2, cluster_std= 5, random_state =1)\n",
        "y = y.reshape(-1,1)"
      ],
      "execution_count": 2,
      "outputs": []
    },
    {
      "cell_type": "markdown",
      "source": [
        "Plotting Dataset"
      ],
      "metadata": {
        "id": "iLS5WCh-HnR4"
      }
    },
    {
      "cell_type": "code",
      "metadata": {
        "colab": {
          "base_uri": "https://localhost:8080/",
          "height": 279
        },
        "id": "g2kle73AUczY",
        "outputId": "8b0aaa88-ad1b-424b-c584-5cbe6c95ca26"
      },
      "source": [
        "df = pd.DataFrame(np.hstack((X,y)), columns = ['x1', 'x2', 'y'])\n",
        "plt.scatter(df[df['y']==0]['x1'].values ,df[df['y']==0]['x2'].values , color = 'orange', alpha = .8, marker = 'o')\n",
        "plt.scatter(df[df['y']==1]['x1'].values ,df[df['y']==1]['x2'].values  , color = 'red', alpha = .6, marker = 'o')\n",
        "plt.xlabel('X1')\n",
        "plt.ylabel('X2')\n",
        "plt.show()"
      ],
      "execution_count": 10,
      "outputs": [
        {
          "output_type": "display_data",
          "data": {
            "image/png": "[encoded data removed]",
            "text/plain": [
              "<Figure size 432x288 with 1 Axes>"
            ]
          },
          "metadata": {
            "needs_background": "light"
          }
        }
      ]
    },
    {
      "cell_type": "markdown",
      "source": [
        "Defining the Sigmod Function"
      ],
      "metadata": {
        "id": "dLYu834hHrrl"
      }
    },
    {
      "cell_type": "code",
      "metadata": {
        "id": "Tu82yTXv0WPZ"
      },
      "source": [
        "def sigmoid(z):\n",
        "  return 1/(1+np.exp(-z))"
      ],
      "execution_count": 4,
      "outputs": []
    },
    {
      "cell_type": "markdown",
      "source": [
        "Training the Logistic Regression Model"
      ],
      "metadata": {
        "id": "zcJCTbvAH2p0"
      }
    },
    {
      "cell_type": "code",
      "metadata": {
        "id": "nvwDEawnKuxv"
      },
      "source": [
        "def train(X,y,lr = 0.001, n_iters =1000):\n",
        "  m,n = X.shape\n",
        "  cost = []\n",
        "\n",
        "  weights = np.zeros((n,1))\n",
        "  bias = 0\n",
        "\n",
        "  for i in range(n_iters+1):\n",
        "    y_pred = sigmoid(np.dot(X,weights) + bias)\n",
        "    cost_ = (-1/m * np.sum(y * np.log(y_pred) + (1 - y) * np.log(1 - y_pred)))\n",
        "    cost.append(cost_)\n",
        "\n",
        "    dw = 1/m * np.dot(X.T, (y_pred - y))\n",
        "    db = 1/m * np.sum(y_pred - y)\n",
        "\n",
        "    weights = weights - lr*dw\n",
        "    bias = bias - lr*db\n",
        "\n",
        "    if i%100 == 0:\n",
        "      print(f\"Cost after iteration {i}: {cost_}\")\n",
        "     \n",
        "\n",
        "  return weights, bias, cost\n"
      ],
      "execution_count": 5,
      "outputs": []
    },
    {
      "cell_type": "code",
      "metadata": {
        "colab": {
          "base_uri": "https://localhost:8080/"
        },
        "id": "1w_6xR7kTZb9",
        "outputId": "32da1324-3c74-475c-f45b-555dfd9d266e"
      },
      "source": [
        "weights, bias, cost = train(X,y)"
      ],
      "execution_count": 6,
      "outputs": [
        {
          "output_type": "stream",
          "name": "stdout",
          "text": [
            "Cost after iteration 0: 0.6931471805599452\n",
            "Cost after iteration 100: 0.3826404608683957\n",
            "Cost after iteration 200: 0.32925134412679974\n",
            "Cost after iteration 300: 0.3066990907561544\n",
            "Cost after iteration 400: 0.2943519765092589\n",
            "Cost after iteration 500: 0.286624546357421\n",
            "Cost after iteration 600: 0.28134702566477393\n",
            "Cost after iteration 700: 0.27750356277049354\n",
            "Cost after iteration 800: 0.2745591509147276\n",
            "Cost after iteration 900: 0.2722078131373388\n",
            "Cost after iteration 1000: 0.2702634723811102\n"
          ]
        }
      ]
    },
    {
      "cell_type": "markdown",
      "source": [
        "Plotting Loss"
      ],
      "metadata": {
        "id": "GBLhbazWIDAW"
      }
    },
    {
      "cell_type": "code",
      "metadata": {
        "colab": {
          "base_uri": "https://localhost:8080/",
          "height": 279
        },
        "id": "Y496iFbwVPVI",
        "outputId": "910c65c5-d6e3-4420-8719-e42c36d807f5"
      },
      "source": [
        "plt.plot(cost)\n",
        "plt.xlabel('Number of iterations')\n",
        "plt.ylabel('Cost')\n",
        "plt.show()"
      ],
      "execution_count": 7,
      "outputs": [
        {
          "output_type": "display_data",
          "data": {
            "image/png": "[encoded data removed]",
            "text/plain": [
              "<Figure size 432x288 with 1 Axes>"
            ]
          },
          "metadata": {
            "needs_background": "light"
          }
        }
      ]
    },
    {
      "cell_type": "markdown",
      "source": [
        "Prediction and Accuracy"
      ],
      "metadata": {
        "id": "IQBCvftAKJxl"
      }
    },
    {
      "cell_type": "code",
      "metadata": {
        "id": "zwJ6eJnUVh-M"
      },
      "source": [
        "def predict(X,w,b,y):\n",
        "  prediction =  sigmoid(np.dot(X,weights) + bias) >= 0.5\n",
        "  print(f\"Accuracy: {(y==prediction).sum()/X.shape[0]}\")\n",
        "  return prediction\n"
      ],
      "execution_count": 8,
      "outputs": []
    },
    {
      "cell_type": "code",
      "metadata": {
        "colab": {
          "base_uri": "https://localhost:8080/"
        },
        "id": "oAXfCi4-ZFST",
        "outputId": "66cde11b-1de4-43d9-bf29-9576351212a6"
      },
      "source": [
        "pred = predict(X,weights,bias,y)"
      ],
      "execution_count": 9,
      "outputs": [
        {
          "output_type": "stream",
          "name": "stdout",
          "text": [
            "Accuracy: 0.875\n"
          ]
        }
      ]
    },
    {
      "cell_type": "markdown",
      "source": [
        "Plotting Predicted Line"
      ],
      "metadata": {
        "id": "sqeg_UJLKXKr"
      }
    },
    {
      "cell_type": "code",
      "metadata": {
        "id": "2U3WiTn5TkKh"
      },
      "source": [
        "x_1 = np.linspace(-25,15).reshape(-1,1)\n",
        "x_2 = -(bias +weights[0]*x_1)/weights[1]"
      ],
      "execution_count": 11,
      "outputs": []
    },
    {
      "cell_type": "code",
      "metadata": {
        "colab": {
          "base_uri": "https://localhost:8080/",
          "height": 279
        },
        "id": "jzsgEMbWSClU",
        "outputId": "52bf2bcb-e541-4948-d9d1-febe5cc14a65"
      },
      "source": [
        "plt.scatter(df[df['y']==0]['x1'].values ,df[df['y']==0]['x2'].values , color = 'orange', alpha = .8, marker = 'o')\n",
        "plt.scatter(df[df['y']==1]['x1'].values ,df[df['y']==1]['x2'].values  , color = 'red', alpha = .6, marker = 'o')\n",
        "plt.plot(x_1, x_2)\n",
        "plt.xlabel('X1')\n",
        "plt.ylabel('X2')\n",
        "plt.show()"
      ],
      "execution_count": 12,
      "outputs": [
        {
          "output_type": "display_data",
          "data": {
            "image/png": "[encoded data removed]",
            "text/plain": [
              "<Figure size 432x288 with 1 Axes>"
            ]
          },
          "metadata": {
            "needs_background": "light"
          }
        }
      ]
    }
  ]
}