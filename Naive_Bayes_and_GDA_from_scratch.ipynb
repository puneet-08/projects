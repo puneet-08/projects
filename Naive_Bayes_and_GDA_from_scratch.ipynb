{
  "nbformat": 4,
  "nbformat_minor": 0,
  "metadata": {
    "colab": {
      "name": "Naive Bayes and GDA from scratch.ipynb",
      "provenance": [],
      "authorship_tag": "ABX9TyOg6W8rZx/O81d0bpZedniO",
      "include_colab_link": true
    },
    "kernelspec": {
      "name": "python3",
      "display_name": "Python 3"
    },
    "language_info": {
      "name": "python"
    }
  },
  "cells": [
    {
      "cell_type": "markdown",
      "metadata": {
        "id": "view-in-github",
        "colab_type": "text"
      },
      "source": [
        "<a href=\"https://colab.research.google.com/github/puneet-08/projects/blob/main/Naive_Bayes_and_GDA_from_scratch.ipynb\" target=\"_parent\"><img src=\"https://colab.research.google.com/assets/colab-badge.svg\" alt=\"Open In Colab\"/></a>"
      ]
    },
    {
      "cell_type": "markdown",
      "source": [
        "## Naive Bayes and Gaussian Discriminant Analysis"
      ],
      "metadata": {
        "id": "qO1tZ4RQHql_"
      }
    },
    {
      "cell_type": "code",
      "metadata": {
        "id": "0JPRo8hqH0KP"
      },
      "source": [
        "import pandas as pd\n",
        "import numpy as np\n",
        "import matplotlib.pyplot as plt\n",
        "import seaborn as sns\n",
        "from scipy.stats import multivariate_normal\n",
        "\n",
        "sns.set_style(\"darkgrid\")"
      ],
      "execution_count": 1,
      "outputs": []
    },
    {
      "cell_type": "code",
      "metadata": {
        "colab": {
          "base_uri": "https://localhost:8080/",
          "height": 206
        },
        "id": "_3n-PPDjIRYd",
        "outputId": "352bf19b-cf4d-45dd-d87e-92bd426f13ce"
      },
      "source": [
        "# Importing Data\n",
        "data = pd.read_csv(\"/content/Breast_cancer_data.csv\")\n",
        "data.head()"
      ],
      "execution_count": 2,
      "outputs": [
        {
          "output_type": "execute_result",
          "data": {
            "text/plain": [
              "   mean_radius  mean_texture  mean_perimeter  mean_area  mean_smoothness  \\\n",
              "0        17.99         10.38          122.80     1001.0          0.11840   \n",
              "1        20.57         17.77          132.90     1326.0          0.08474   \n",
              "2        19.69         21.25          130.00     1203.0          0.10960   \n",
              "3        11.42         20.38           77.58      386.1          0.14250   \n",
              "4        20.29         14.34          135.10     1297.0          0.10030   \n",
              "\n",
              "   diagnosis  \n",
              "0          0  \n",
              "1          0  \n",
              "2          0  \n",
              "3          0  \n",
              "4          0  "
            ],
            "text/html": [
              "\n",
              "  <div id=\"df-fbfc0876-11e5-47a8-bca6-a7330567b5ad\">\n",
              "    <div class=\"colab-df-container\">\n",
              "      <div>\n",
              "<style scoped>\n",
              "    .dataframe tbody tr th:only-of-type {\n",
              "        vertical-align: middle;\n",
              "    }\n",
              "\n",
              "    .dataframe tbody tr th {\n",
              "        vertical-align: top;\n",
              "    }\n",
              "\n",
              "    .dataframe thead th {\n",
              "        text-align: right;\n",
              "    }\n",
              "</style>\n",
              "<table border=\"1\" class=\"dataframe\">\n",
              "  <thead>\n",
              "    <tr style=\"text-align: right;\">\n",
              "      <th></th>\n",
              "      <th>mean_radius</th>\n",
              "      <th>mean_texture</th>\n",
              "      <th>mean_perimeter</th>\n",
              "      <th>mean_area</th>\n",
              "      <th>mean_smoothness</th>\n",
              "      <th>diagnosis</th>\n",
              "    </tr>\n",
              "  </thead>\n",
              "  <tbody>\n",
              "    <tr>\n",
              "      <th>0</th>\n",
              "      <td>17.99</td>\n",
              "      <td>10.38</td>\n",
              "      <td>122.80</td>\n",
              "      <td>1001.0</td>\n",
              "      <td>0.11840</td>\n",
              "      <td>0</td>\n",
              "    </tr>\n",
              "    <tr>\n",
              "      <th>1</th>\n",
              "      <td>20.57</td>\n",
              "      <td>17.77</td>\n",
              "      <td>132.90</td>\n",
              "      <td>1326.0</td>\n",
              "      <td>0.08474</td>\n",
              "      <td>0</td>\n",
              "    </tr>\n",
              "    <tr>\n",
              "      <th>2</th>\n",
              "      <td>19.69</td>\n",
              "      <td>21.25</td>\n",
              "      <td>130.00</td>\n",
              "      <td>1203.0</td>\n",
              "      <td>0.10960</td>\n",
              "      <td>0</td>\n",
              "    </tr>\n",
              "    <tr>\n",
              "      <th>3</th>\n",
              "      <td>11.42</td>\n",
              "      <td>20.38</td>\n",
              "      <td>77.58</td>\n",
              "      <td>386.1</td>\n",
              "      <td>0.14250</td>\n",
              "      <td>0</td>\n",
              "    </tr>\n",
              "    <tr>\n",
              "      <th>4</th>\n",
              "      <td>20.29</td>\n",
              "      <td>14.34</td>\n",
              "      <td>135.10</td>\n",
              "      <td>1297.0</td>\n",
              "      <td>0.10030</td>\n",
              "      <td>0</td>\n",
              "    </tr>\n",
              "  </tbody>\n",
              "</table>\n",
              "</div>\n",
              "      <button class=\"colab-df-convert\" onclick=\"convertToInteractive('df-fbfc0876-11e5-47a8-bca6-a7330567b5ad')\"\n",
              "              title=\"Convert this dataframe to an interactive table.\"\n",
              "              style=\"display:none;\">\n",
              "        \n",
              "  <svg xmlns=\"http://www.w3.org/2000/svg\" height=\"24px\"viewBox=\"0 0 24 24\"\n",
              "       width=\"24px\">\n",
              "    <path d=\"M0 0h24v24H0V0z\" fill=\"none\"/>\n",
              "    <path d=\"M18.56 5.44l.94 2.06.94-2.06 2.06-.94-2.06-.94-.94-2.06-.94 2.06-2.06.94zm-11 1L8.5 8.5l.94-2.06 2.06-.94-2.06-.94L8.5 2.5l-.94 2.06-2.06.94zm10 10l.94 2.06.94-2.06 2.06-.94-2.06-.94-.94-2.06-.94 2.06-2.06.94z\"/><path d=\"M17.41 7.96l-1.37-1.37c-.4-.4-.92-.59-1.43-.59-.52 0-1.04.2-1.43.59L10.3 9.45l-7.72 7.72c-.78.78-.78 2.05 0 2.83L4 21.41c.39.39.9.59 1.41.59.51 0 1.02-.2 1.41-.59l7.78-7.78 2.81-2.81c.8-.78.8-2.07 0-2.86zM5.41 20L4 18.59l7.72-7.72 1.47 1.35L5.41 20z\"/>\n",
              "  </svg>\n",
              "      </button>\n",
              "      \n",
              "  <style>\n",
              "    .colab-df-container {\n",
              "      display:flex;\n",
              "      flex-wrap:wrap;\n",
              "      gap: 12px;\n",
              "    }\n",
              "\n",
              "    .colab-df-convert {\n",
              "      background-color: #E8F0FE;\n",
              "      border: none;\n",
              "      border-radius: 50%;\n",
              "      cursor: pointer;\n",
              "      display: none;\n",
              "      fill: #1967D2;\n",
              "      height: 32px;\n",
              "      padding: 0 0 0 0;\n",
              "      width: 32px;\n",
              "    }\n",
              "\n",
              "    .colab-df-convert:hover {\n",
              "      background-color: #E2EBFA;\n",
              "      box-shadow: 0px 1px 2px rgba(60, 64, 67, 0.3), 0px 1px 3px 1px rgba(60, 64, 67, 0.15);\n",
              "      fill: #174EA6;\n",
              "    }\n",
              "\n",
              "    [theme=dark] .colab-df-convert {\n",
              "      background-color: #3B4455;\n",
              "      fill: #D2E3FC;\n",
              "    }\n",
              "\n",
              "    [theme=dark] .colab-df-convert:hover {\n",
              "      background-color: #434B5C;\n",
              "      box-shadow: 0px 1px 3px 1px rgba(0, 0, 0, 0.15);\n",
              "      filter: drop-shadow(0px 1px 2px rgba(0, 0, 0, 0.3));\n",
              "      fill: #FFFFFF;\n",
              "    }\n",
              "  </style>\n",
              "\n",
              "      <script>\n",
              "        const buttonEl =\n",
              "          document.querySelector('#df-fbfc0876-11e5-47a8-bca6-a7330567b5ad button.colab-df-convert');\n",
              "        buttonEl.style.display =\n",
              "          google.colab.kernel.accessAllowed ? 'block' : 'none';\n",
              "\n",
              "        async function convertToInteractive(key) {\n",
              "          const element = document.querySelector('#df-fbfc0876-11e5-47a8-bca6-a7330567b5ad');\n",
              "          const dataTable =\n",
              "            await google.colab.kernel.invokeFunction('convertToInteractive',\n",
              "                                                     [key], {});\n",
              "          if (!dataTable) return;\n",
              "\n",
              "          const docLinkHtml = 'Like what you see? Visit the ' +\n",
              "            '<a target=\"_blank\" href=https://colab.research.google.com/notebooks/data_table.ipynb>data table notebook</a>'\n",
              "            + ' to learn more about interactive tables.';\n",
              "          element.innerHTML = '';\n",
              "          dataTable['output_type'] = 'display_data';\n",
              "          await google.colab.output.renderOutput(dataTable, element);\n",
              "          const docLink = document.createElement('div');\n",
              "          docLink.innerHTML = docLinkHtml;\n",
              "          element.appendChild(docLink);\n",
              "        }\n",
              "      </script>\n",
              "    </div>\n",
              "  </div>\n",
              "  "
            ]
          },
          "metadata": {},
          "execution_count": 2
        }
      ]
    },
    {
      "cell_type": "code",
      "metadata": {
        "colab": {
          "base_uri": "https://localhost:8080/",
          "height": 282
        },
        "id": "ogWT2uqcIXp7",
        "outputId": "f926bb25-3243-42f8-a322-3566d9b31dba"
      },
      "source": [
        "# Visualizing Data\n",
        "\n",
        "data['diagnosis'].hist()"
      ],
      "execution_count": 4,
      "outputs": [
        {
          "output_type": "execute_result",
          "data": {
            "text/plain": [
              "<matplotlib.axes._subplots.AxesSubplot at 0x7fa665ba9ad0>"
            ]
          },
          "metadata": {},
          "execution_count": 4
        },
        {
          "output_type": "display_data",
          "data": {
            "text/plain": [
              "<Figure size 432x288 with 1 Axes>"
            ],
            "image/png": "[encoded data removed]"
          },
          "metadata": {
            "needs_background": "light"
          }
        }
      ]
    },
    {
      "cell_type": "code",
      "metadata": {
        "colab": {
          "base_uri": "https://localhost:8080/",
          "height": 370
        },
        "id": "n3qhKao6Id1w",
        "outputId": "43a4bfae-5bc3-492f-d694-3c0bad236a8a"
      },
      "source": [
        "corr = data.iloc[:,:-1].corr(method = 'pearson')\n",
        "cmap = sns.diverging_palette(250,354,75,50, center='dark', as_cmap = True)\n",
        "sns.heatmap(corr, vmin=-1, vmax= 1, square=True, linewidths=0.2,cmap=cmap)"
      ],
      "execution_count": 5,
      "outputs": [
        {
          "output_type": "execute_result",
          "data": {
            "text/plain": [
              "<matplotlib.axes._subplots.AxesSubplot at 0x7fa665bc2990>"
            ]
          },
          "metadata": {},
          "execution_count": 5
        },
        {
          "output_type": "display_data",
          "data": {
            "text/plain": [
              "<Figure size 432x288 with 2 Axes>"
            ],
            "image/png": "[encoded data removed]"
          },
          "metadata": {
            "needs_background": "light"
          }
        }
      ]
    },
    {
      "cell_type": "markdown",
      "metadata": {
        "id": "iW1c5kXOAgzY"
      },
      "source": [
        "### **NAIVE BAYES**"
      ]
    },
    {
      "cell_type": "markdown",
      "metadata": {
        "id": "5D3UG_VB_lvl"
      },
      "source": [
        "**Approach 1: Using Continuous Data**"
      ]
    },
    {
      "cell_type": "code",
      "metadata": {
        "id": "T3Plf1UfJsIb"
      },
      "source": [
        "data = data[['mean_radius', 'mean_texture', 'mean_smoothness', 'diagnosis']] #dropped highly correlated features"
      ],
      "execution_count": 6,
      "outputs": []
    },
    {
      "cell_type": "code",
      "metadata": {
        "colab": {
          "base_uri": "https://localhost:8080/",
          "height": 394
        },
        "id": "299Rku-vJ0a6",
        "outputId": "cbcb3ae1-3822-4e8b-e345-4c969414b6a0"
      },
      "source": [
        "fig, axis = plt.subplots(1, 3, figsize = (18,6), sharey = True)\n",
        "\n",
        "sns.histplot(data, ax = axis[0], x = 'mean_radius', kde= True, color= 'r')\n",
        "sns.histplot(data, ax = axis[1], x = 'mean_texture', kde = True, color = 'b')\n",
        "sns.histplot(data, ax = axis[2], x = 'mean_smoothness', kde = True)"
      ],
      "execution_count": 7,
      "outputs": [
        {
          "output_type": "execute_result",
          "data": {
            "text/plain": [
              "<matplotlib.axes._subplots.AxesSubplot at 0x7fa662d143d0>"
            ]
          },
          "metadata": {},
          "execution_count": 7
        },
        {
          "output_type": "display_data",
          "data": {
            "text/plain": [
              "<Figure size 1296x432 with 3 Axes>"
            ],
            "image/png": "[encoded data removed]"
          },
          "metadata": {
            "needs_background": "light"
          }
        }
      ]
    },
    {
      "cell_type": "markdown",
      "metadata": {
        "id": "dtohiwS9rwuY"
      },
      "source": [
        "Calculating priors i.e. P(Y=y) for all possible y\n",
        "\n",
        "\n"
      ]
    },
    {
      "cell_type": "code",
      "metadata": {
        "id": "2cd0Ui2mr__s"
      },
      "source": [
        "def prior_prob(df, Y):\n",
        "  classes = sorted(list(df[Y].unique()))\n",
        "  prior = []\n",
        "  for i in classes:\n",
        "    prior.append(len(df[df[Y]==i])/len(df))\n",
        "  return prior\n"
      ],
      "execution_count": 8,
      "outputs": []
    },
    {
      "cell_type": "code",
      "metadata": {
        "colab": {
          "base_uri": "https://localhost:8080/"
        },
        "id": "XTZME9n9utM7",
        "outputId": "eb3f1704-e268-4fd9-bdbb-3ba718fa6f88"
      },
      "source": [
        "prior_prob(data, 'diagnosis')"
      ],
      "execution_count": 9,
      "outputs": [
        {
          "output_type": "execute_result",
          "data": {
            "text/plain": [
              "[0.37258347978910367, 0.6274165202108963]"
            ]
          },
          "metadata": {},
          "execution_count": 9
        }
      ]
    },
    {
      "cell_type": "markdown",
      "metadata": {
        "id": "SlPVa1-4uYL_"
      },
      "source": [
        "Calculating likelyhood i.e. P(X=x|Y=y) using gaussian distribution\n"
      ]
    },
    {
      "cell_type": "code",
      "metadata": {
        "id": "X1sMEw6iuxMN"
      },
      "source": [
        "def likelyhood_prob(df, column, Y, feat_value, label):\n",
        "  mean, std = np.mean(df[df[Y]==label][column]), np.std(df[df[Y]==label][column])\n",
        "  p_x_given_y = (1/(np.sqrt(2*np.pi)*std)) * (np.exp(-(((feat_value-mean)/std)**2)/2))\n",
        "  return p_x_given_y"
      ],
      "execution_count": 10,
      "outputs": []
    },
    {
      "cell_type": "markdown",
      "metadata": {
        "id": "0PGyxV9h2KE1"
      },
      "source": [
        "Calculating P(X=x1| Y= y)P(X=x2| Y= y).....P(X=xn| Y=y)* P(Y=y) for all Y and find maximum"
      ]
    },
    {
      "cell_type": "code",
      "metadata": {
        "colab": {
          "base_uri": "https://localhost:8080/"
        },
        "id": "31AcJnnl5no9",
        "outputId": "cb34567e-5681-494f-bd1f-fe65c706b4e4"
      },
      "source": [
        "list(data.columns)[:-1]"
      ],
      "execution_count": 11,
      "outputs": [
        {
          "output_type": "execute_result",
          "data": {
            "text/plain": [
              "['mean_radius', 'mean_texture', 'mean_smoothness']"
            ]
          },
          "metadata": {},
          "execution_count": 11
        }
      ]
    },
    {
      "cell_type": "code",
      "metadata": {
        "id": "3IbJmgbNxHzp"
      },
      "source": [
        "def naive_bayes_gaussian(df,X ,Y):\n",
        "\n",
        "  features = list(df.columns)[:-1]\n",
        "\n",
        "  prior = prior_prob(df, Y)\n",
        "\n",
        "  Y_pred = []\n",
        "  labels = sorted(list(df[Y].unique()))\n",
        "  \n",
        "  for x in X: #looping over each sample point\n",
        "    likelyhood = [1]*len(labels)\n",
        "    for i in range(len(labels)):\n",
        "      for j in range(len(features)):\n",
        "        likelyhood[i] *= likelyhood_prob(df, features[j], Y, x[j], i)\n",
        "\n",
        "    post_prob = [1]*len(labels)\n",
        "    for k in range(len(post_prob)):\n",
        "      post_prob[k] = likelyhood[k]*prior[k]\n",
        "    \n",
        "    Y_pred.append(np.argmax(post_prob))\n",
        "\n",
        "\n",
        "  return np.array(Y_pred)"
      ],
      "execution_count": 12,
      "outputs": []
    },
    {
      "cell_type": "code",
      "metadata": {
        "colab": {
          "base_uri": "https://localhost:8080/"
        },
        "id": "CyvmxNEj8r3L",
        "outputId": "de3654c1-c426-44e6-8df0-dcee038fead3"
      },
      "source": [
        "#Training and Predicting\n",
        "\n",
        "from sklearn.model_selection import train_test_split\n",
        "train, test = train_test_split(data, test_size=.2, random_state=41)\n",
        "\n",
        "X_test = test.iloc[:,:-1].values\n",
        "Y_test = test.iloc[:,-1].values\n",
        "Y_pred = naive_bayes_gaussian(train, X=X_test, Y=\"diagnosis\")\n",
        "\n",
        "from sklearn.metrics import confusion_matrix, f1_score\n",
        "print(confusion_matrix(Y_test, Y_pred))\n",
        "print(f1_score(Y_test, Y_pred))"
      ],
      "execution_count": 13,
      "outputs": [
        {
          "output_type": "stream",
          "name": "stdout",
          "text": [
            "[[36  4]\n",
            " [ 0 74]]\n",
            "0.9736842105263158\n"
          ]
        }
      ]
    },
    {
      "cell_type": "markdown",
      "metadata": {
        "id": "i65wcuET8X1z"
      },
      "source": [
        " **Approach 2: Converting continuous data to categorical data**"
      ]
    },
    {
      "cell_type": "code",
      "metadata": {
        "id": "XbMm6-OxGHd0"
      },
      "source": [
        "data['mean_radius_cat'] = pd.cut(data['mean_radius'].values, bins= 3, labels = [0,1,2])\n",
        "data['mean_texture_cat'] = pd.cut(data['mean_texture'].values, bins = 3, labels=[0,1,2])\n",
        "data['mean_smoothness_cat'] = pd.cut(data['mean_smoothness'].values, bins = 3, labels = [0,1,2])\n",
        "\n",
        "data = data.drop(columns=['mean_radius', \"mean_texture\", \"mean_smoothness\"])"
      ],
      "execution_count": 14,
      "outputs": []
    },
    {
      "cell_type": "code",
      "metadata": {
        "colab": {
          "base_uri": "https://localhost:8080/"
        },
        "id": "m0cPU0L9JwIr",
        "outputId": "768d9a2a-e537-4a90-808d-cd5d16faa537"
      },
      "source": [
        "data.columns"
      ],
      "execution_count": 15,
      "outputs": [
        {
          "output_type": "execute_result",
          "data": {
            "text/plain": [
              "Index(['diagnosis', 'mean_radius_cat', 'mean_texture_cat',\n",
              "       'mean_smoothness_cat'],\n",
              "      dtype='object')"
            ]
          },
          "metadata": {},
          "execution_count": 15
        }
      ]
    },
    {
      "cell_type": "code",
      "metadata": {
        "id": "E5fbfuzQZ8PH"
      },
      "source": [
        "data = data[['mean_radius_cat', \"mean_texture_cat\", 'mean_smoothness_cat', 'diagnosis']]"
      ],
      "execution_count": 16,
      "outputs": []
    },
    {
      "cell_type": "markdown",
      "metadata": {
        "id": "1QK-0rDsQ9KV"
      },
      "source": [
        "Calculating likelyhood i.e. P(X=x|Y=y) using gaussian distribution"
      ]
    },
    {
      "cell_type": "code",
      "metadata": {
        "id": "Womxvm8QKF-9"
      },
      "source": [
        "def likelyhood_prob_cat(df, column, Y, feat_value, label):\n",
        "  df = df[df[Y]==label]\n",
        "  prob_x_given_y = len(df[df[column]==feat_value])/len(df)\n",
        "  return prob_x_given_y\n"
      ],
      "execution_count": 21,
      "outputs": []
    },
    {
      "cell_type": "markdown",
      "metadata": {
        "id": "VlyPZukhUtWA"
      },
      "source": [
        "Calculating P(X=x1| Y= y)P(X=x2| Y= y).....P(X=xn| Y=y)* P(Y=y) for all Y and find maximum"
      ]
    },
    {
      "cell_type": "code",
      "metadata": {
        "id": "VcFnCKT4TW4h"
      },
      "source": [
        "def naive_bayes_categorical(df,X,Y):\n",
        "  features = list(df.columns)[:-1]\n",
        "  labels = sorted(list(df[Y].unique()))\n",
        "\n",
        "  prior = prior_prob(df,Y)\n",
        "  Y_pred = []\n",
        "\n",
        "  for x in X:\n",
        "    likelyhood = [1]*len(labels)\n",
        "    for i in range(len(labels)):\n",
        "      for j in range(len(features)):\n",
        "        likelyhood[i] *= likelyhood_prob_cat(df,features[j], Y, x[j], i)\n",
        "    \n",
        "    post_prob = [1]*len(labels)\n",
        "    for k in range(len(labels)):\n",
        "      post_prob[k] = likelyhood[k] * prior[k]\n",
        "\n",
        "    Y_pred.append(np.argmax(post_prob))\n",
        "\n",
        "  return np.array(Y_pred)\n",
        "\n"
      ],
      "execution_count": 20,
      "outputs": []
    },
    {
      "cell_type": "code",
      "metadata": {
        "colab": {
          "base_uri": "https://localhost:8080/"
        },
        "id": "bQPeJ-xZW7SQ",
        "outputId": "318bdab0-04d2-4353-cadc-978b8761afd6"
      },
      "source": [
        "#Training and Predicting\n",
        "\n",
        "from sklearn.model_selection import train_test_split\n",
        "train, test = train_test_split(data, test_size=.2, random_state=41)\n",
        "\n",
        "X_test = test.iloc[:,:-1].values\n",
        "Y_test = test.iloc[:,-1].values\n",
        "Y_pred = naive_bayes_categorical(train, X=X_test, Y=\"diagnosis\")\n",
        "\n",
        "from sklearn.metrics import confusion_matrix, f1_score\n",
        "print(confusion_matrix(Y_test, Y_pred))\n",
        "print(f1_score(Y_test, Y_pred))"
      ],
      "execution_count": 22,
      "outputs": [
        {
          "output_type": "stream",
          "name": "stdout",
          "text": [
            "[[38  2]\n",
            " [ 5 69]]\n",
            "0.9517241379310345\n"
          ]
        }
      ]
    },
    {
      "cell_type": "markdown",
      "metadata": {
        "id": "RgGeeC1n4-VY"
      },
      "source": [
        "### **GDA**"
      ]
    },
    {
      "cell_type": "code",
      "metadata": {
        "id": "0Ylq8NGsCcl0"
      },
      "source": [
        "data = pd.read_csv(\"/content/Breast_cancer_data.csv\")\n",
        "data = data[['mean_radius', 'mean_texture', 'mean_smoothness', 'diagnosis']]"
      ],
      "execution_count": 23,
      "outputs": []
    },
    {
      "cell_type": "code",
      "metadata": {
        "id": "F8gllmsiDSqe"
      },
      "source": [
        "def features_mean(df, label, Y):\n",
        "  mu = []\n",
        "  columns = df.columns[:-1]\n",
        "  df = df[df[Y] ==label]\n",
        "  for feature in columns:\n",
        "    mu.append(df[feature].mean())\n",
        "  return np.array(mu)"
      ],
      "execution_count": 24,
      "outputs": []
    },
    {
      "cell_type": "code",
      "metadata": {
        "id": "uf-0J--vRCUv"
      },
      "source": [
        "def sigma_(df, label, Y):\n",
        "  df = df[df[Y]==label]\n",
        "  return np.cov(df.iloc[:,:-1],rowvar=False)\n"
      ],
      "execution_count": 25,
      "outputs": []
    },
    {
      "cell_type": "markdown",
      "metadata": {
        "id": "S2QmZGN0-3HI"
      },
      "source": [
        "Fitting data to multivariate gaussian distribution\n",
        "\n"
      ]
    },
    {
      "cell_type": "code",
      "metadata": {
        "id": "ipEROYU5Z2i1"
      },
      "source": [
        "def multivariate_gaussian_GDA(df, Y,label):\n",
        "  mu = features_mean(df, label, Y)\n",
        "  sigma = sigma_(df, label,Y)\n",
        "\n",
        "  mul_gaussian = multivariate_normal(mean = mu, cov = sigma)\n",
        "  return mul_gaussian\n"
      ],
      "execution_count": 26,
      "outputs": []
    },
    {
      "cell_type": "markdown",
      "metadata": {
        "id": "zKr5mg6OT-0o"
      },
      "source": [
        "Calculating P(X=x|Y=y) using gaussian distribution and then argmax(y): P(Y=y|X=x)"
      ]
    },
    {
      "cell_type": "code",
      "metadata": {
        "id": "d8x929-HVFxz"
      },
      "source": [
        "def GDA_gaussian(df,X ,Y):\n",
        "  labels = sorted(list(df[Y].unique()))\n",
        "\n",
        "  prior = prior_prob(df,Y)\n",
        "  Y_pred = []\n",
        "\n",
        "  for x in X:\n",
        "    likelyhood = [1]*len(labels)\n",
        "    for i in range(len(labels)):\n",
        "      likelyhood[i] = multivariate_gaussian_GDA(df, Y, i).pdf(x)\n",
        "\n",
        "    post_prob = [1]*len(labels)\n",
        "    for k in range(len(labels)):\n",
        "      post_prob[k] = likelyhood[k] * prior[k]\n",
        "    \n",
        "    Y_pred.append(np.argmax(post_prob))\n",
        "\n",
        "  return np.array(Y_pred)"
      ],
      "execution_count": 29,
      "outputs": []
    },
    {
      "cell_type": "code",
      "metadata": {
        "colab": {
          "base_uri": "https://localhost:8080/"
        },
        "id": "4NDEc2cLYf1f",
        "outputId": "058c5a95-9e06-4da4-e8ca-3d64b892f868"
      },
      "source": [
        "#Training and Predicting\n",
        "\n",
        "from sklearn.model_selection import train_test_split\n",
        "train, test = train_test_split(data, test_size=.2, random_state=41)\n",
        "\n",
        "X_test = test.iloc[:,:-1].values\n",
        "Y_test = test.iloc[:,-1].values\n",
        "Y_pred = GDA_gaussian(train, X=X_test, Y=\"diagnosis\")\n",
        "\n",
        "from sklearn.metrics import confusion_matrix, f1_score\n",
        "print(confusion_matrix(Y_test, Y_pred))\n",
        "print(f1_score(Y_test, Y_pred))"
      ],
      "execution_count": 30,
      "outputs": [
        {
          "output_type": "stream",
          "name": "stdout",
          "text": [
            "[[39  1]\n",
            " [ 2 72]]\n",
            "0.979591836734694\n"
          ]
        }
      ]
    },
    {
      "cell_type": "markdown",
      "source": [
        "## References\n",
        "\n",
        "1. Lecture 5 https://www.youtube.com/watch?v=nt63k3bfXS0&list=PLoROMvodv4rMiGQp3WXShtMGgzqpfVfbU&index=5"
      ],
      "metadata": {
        "id": "cKBoM5qGPN3i"
      }
    }
  ]
}