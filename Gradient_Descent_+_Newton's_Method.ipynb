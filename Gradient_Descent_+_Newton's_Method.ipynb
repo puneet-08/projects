{
  "nbformat": 4,
  "nbformat_minor": 0,
  "metadata": {
    "colab": {
      "name": "Gradient Descent + Newton's Method.ipynb",
      "provenance": [],
      "collapsed_sections": [],
      "authorship_tag": "ABX9TyNDWrlxXdHZWW6VBATxc/y7",
      "include_colab_link": true
    },
    "kernelspec": {
      "display_name": "Python 3",
      "name": "python3"
    },
    "language_info": {
      "name": "python"
    }
  },
  "cells": [
    {
      "cell_type": "markdown",
      "metadata": {
        "id": "view-in-github",
        "colab_type": "text"
      },
      "source": [
        "<a href=\"https://colab.research.google.com/github/puneet-08/projects/blob/main/Gradient_Descent_%2B_Newton's_Method.ipynb\" target=\"_parent\"><img src=\"https://colab.research.google.com/assets/colab-badge.svg\" alt=\"Open In Colab\"/></a>"
      ]
    },
    {
      "cell_type": "markdown",
      "metadata": {
        "id": "B6N9ld6BOipE"
      },
      "source": [
        "# **Gradient Descent**"
      ]
    },
    {
      "cell_type": "code",
      "metadata": {
        "id": "PJj6d3GvM-W5"
      },
      "source": [
        "import matplotlib.pyplot as plt\n",
        "import numpy as np"
      ],
      "execution_count": 1,
      "outputs": []
    },
    {
      "cell_type": "code",
      "metadata": {
        "id": "OqCUvdHdNI_g"
      },
      "source": [
        "# Creating a function\n",
        "def f(x):\n",
        "  return x**2 + 5*x + 3"
      ],
      "execution_count": 3,
      "outputs": []
    },
    {
      "cell_type": "code",
      "metadata": {
        "id": "pJvRxcMPNSaC"
      },
      "source": [
        "# x values\n",
        "x_vals = np.linspace(-8,5,100)"
      ],
      "execution_count": 4,
      "outputs": []
    },
    {
      "cell_type": "code",
      "metadata": {
        "colab": {
          "base_uri": "https://localhost:8080/",
          "height": 279
        },
        "id": "f12IiKwBNUiT",
        "outputId": "3a5cc5f5-c679-49a3-ebb4-6071b2f432c9"
      },
      "source": [
        "# Plotting the function\n",
        "\n",
        "plt.plot(x_vals, f(x_vals),)\n",
        "plt.plot(x_vals, np.zeros(len(x_vals)))\n",
        "plt.xlabel('x')\n",
        "plt.ylabel('f(x)')\n",
        "plt.show()"
      ],
      "execution_count": 5,
      "outputs": [
        {
          "output_type": "display_data",
          "data": {
            "image/png": "[encoded data removed]",
            "text/plain": [
              "<Figure size 432x288 with 1 Axes>"
            ]
          },
          "metadata": {
            "needs_background": "light"
          }
        }
      ]
    },
    {
      "cell_type": "code",
      "metadata": {
        "id": "yDVYbe6iYglf"
      },
      "source": [
        "# Derivative of the function\n",
        "def f_prime(x):\n",
        "  return 2*x + 5"
      ],
      "execution_count": 8,
      "outputs": []
    },
    {
      "cell_type": "code",
      "metadata": {
        "id": "1IrDCYTRurOI"
      },
      "source": [
        "# Gradient Descent\n",
        "def grad_descent(start, f_prime, lr = 0.0001): \n",
        "  vals = [] #container for new 'x' after each step\n",
        "  current = start\n",
        "  new = current - 0.0001\n",
        "  while np.abs(new - current) > 0.00001 :\n",
        "    current = new\n",
        "    # print(\"current :\", current)\n",
        "    move = lr * f_prime(current)\n",
        "    # print(\"move :\", move)\n",
        "    new = current - move\n",
        "    vals.append(new)\n",
        "    \n",
        "  return vals"
      ],
      "execution_count": 24,
      "outputs": []
    },
    {
      "cell_type": "code",
      "metadata": {
        "colab": {
          "base_uri": "https://localhost:8080/",
          "height": 295
        },
        "id": "cte-PP2CwgD-",
        "outputId": "f18be9ff-d6a5-4963-adb2-9eedf2ed8a8b"
      },
      "source": [
        "#Plotting Gradient Descent\n",
        "\n",
        "vals = grad_descent(-4, f_prime)\n",
        "\n",
        "plt.plot(x_vals, f(x_vals))\n",
        "plt.plot(x_vals, np.zeros(len(x_vals)))\n",
        "plt.plot(vals, [f(val) for val in vals], 'rx', alpha = 0.1)\n",
        "plt.xlabel('x')\n",
        "plt.ylabel('f(x)')\n",
        "plt.title('Gradient Descent')\n",
        "plt.show()"
      ],
      "execution_count": 27,
      "outputs": [
        {
          "output_type": "display_data",
          "data": {
            "image/png": "[encoded data removed]",
            "text/plain": [
              "<Figure size 432x288 with 1 Axes>"
            ]
          },
          "metadata": {
            "needs_background": "light"
          }
        }
      ]
    },
    {
      "cell_type": "code",
      "metadata": {
        "colab": {
          "base_uri": "https://localhost:8080/",
          "height": 314
        },
        "id": "3W9LVJbRxQ65",
        "outputId": "4fd26020-7d37-4c72-f8d0-faa23ededbe5"
      },
      "source": [
        "plt.plot(vals)\n",
        "plt.xlabel('Number of iterations')\n",
        "plt.ylabel('New value of x at each step')\n",
        "plt.show()\n",
        "print('Number of steps taken by gradient descent to converge :',len(vals))\n",
        "print('Value of x when gradient descent has converged :', vals[-1])"
      ],
      "execution_count": 28,
      "outputs": [
        {
          "output_type": "display_data",
          "data": {
            "image/png": "[encoded data removed]",
            "text/plain": [
              "<Figure size 432x288 with 1 Axes>"
            ]
          },
          "metadata": {
            "needs_background": "light"
          }
        },
        {
          "output_type": "stream",
          "name": "stdout",
          "text": [
            "Number of steps taken by gradient descent to converge : 17006\n",
            "Value of x when gradient descent has converged : -2.5499861959433927\n"
          ]
        }
      ]
    },
    {
      "cell_type": "code",
      "metadata": {
        "colab": {
          "base_uri": "https://localhost:8080/"
        },
        "id": "ZgnGhVfjWJlx",
        "outputId": "61ed0937-af98-4f4d-d029-05a61cb1bb47"
      },
      "source": [
        "#Checking if derivate is zero at -2.5. Gradient descent has converged to -2.54 which is quite close to -2.5\n",
        "f_prime(-2.5)"
      ],
      "execution_count": 29,
      "outputs": [
        {
          "output_type": "execute_result",
          "data": {
            "text/plain": [
              "0.0"
            ]
          },
          "metadata": {},
          "execution_count": 29
        }
      ]
    },
    {
      "cell_type": "markdown",
      "metadata": {
        "id": "mOzL9D53O1pr"
      },
      "source": [
        "## **Newton's Method**"
      ]
    },
    {
      "cell_type": "code",
      "metadata": {
        "id": "2Tqh8PMvaTi9"
      },
      "source": [
        "# Second Derivative of the function\n",
        "\n",
        "def f_double_prime(x):\n",
        "  return(2)"
      ],
      "execution_count": 30,
      "outputs": []
    },
    {
      "cell_type": "code",
      "metadata": {
        "id": "1npzWDhKSFr-"
      },
      "source": [
        "# Newton's Method\n",
        "\n",
        "def newton_descent(start, f, f_prime, f_double_prime):\n",
        "  vals = []\n",
        "  current = start\n",
        "  new = current - 0.0001\n",
        "  epoch = 0\n",
        "  while np.abs(new - current) > 0.00001 :\n",
        "    print(\"iteration --------------------------- ::\", epoch)\n",
        "    \n",
        "    current = new\n",
        "    print(\"current =\" ,current)\n",
        "    move = f_prime(current)/f_double_prime(current)\n",
        "    print(\"move =\", move)\n",
        "    new = current - move\n",
        "    print(\"new =\", new)\n",
        "    vals.append(new)\n",
        "    epoch +=1\n",
        "  return vals"
      ],
      "execution_count": 31,
      "outputs": []
    },
    {
      "cell_type": "code",
      "metadata": {
        "colab": {
          "base_uri": "https://localhost:8080/"
        },
        "id": "MqO-VPIpTWvg",
        "outputId": "0fd40822-69e9-4c75-bdb9-602064409d6c"
      },
      "source": [
        "vals = newton_descent(4, f, f_prime, f_double_prime)"
      ],
      "execution_count": 32,
      "outputs": [
        {
          "output_type": "stream",
          "name": "stdout",
          "text": [
            "iteration --------------------------- :: 0\n",
            "current = 3.9999\n",
            "move = 6.4999\n",
            "new = -2.5000000000000004\n",
            "iteration --------------------------- :: 1\n",
            "current = -2.5000000000000004\n",
            "move = -4.440892098500626e-16\n",
            "new = -2.5\n"
          ]
        }
      ]
    },
    {
      "cell_type": "code",
      "metadata": {
        "colab": {
          "base_uri": "https://localhost:8080/",
          "height": 314
        },
        "id": "F10QkUO-T6sH",
        "outputId": "3c7f0c9d-4b79-43f9-b31f-16c744970d76"
      },
      "source": [
        "plt.plot(vals)\n",
        "plt.xlabel('Number of iterations')\n",
        "plt.ylabel('New value of x at each step')\n",
        "print('Number of steps taken by gradient descent to converge :',len(vals))\n",
        "print('Value of x when gradient descent has converged :', vals[-1])"
      ],
      "execution_count": 33,
      "outputs": [
        {
          "output_type": "stream",
          "name": "stdout",
          "text": [
            "Number of steps taken by gradient descent to converge : 2\n",
            "Value of x when gradient descent has converged : -2.5\n"
          ]
        },
        {
          "output_type": "display_data",
          "data": {
            "image/png": "[encoded data removed]",
            "text/plain": [
              "<Figure size 432x288 with 1 Axes>"
            ]
          },
          "metadata": {
            "needs_background": "light"
          }
        }
      ]
    },
    {
      "cell_type": "code",
      "metadata": {
        "colab": {
          "base_uri": "https://localhost:8080/"
        },
        "id": "3TtnaR5oXGMm",
        "outputId": "4ce0f344-4d2c-47ac-b705-142dc9c2a5d3"
      },
      "source": [
        "print(vals)"
      ],
      "execution_count": 34,
      "outputs": [
        {
          "output_type": "stream",
          "name": "stdout",
          "text": [
            "[-2.5000000000000004, -2.5]\n"
          ]
        }
      ]
    },
    {
      "cell_type": "code",
      "metadata": {
        "colab": {
          "base_uri": "https://localhost:8080/",
          "height": 295
        },
        "id": "KwSu3ahXTRkG",
        "outputId": "0f3a8975-6af0-4c5b-ec77-38df42aad28e"
      },
      "source": [
        "# Plotting Newton's Descent\n",
        "\n",
        "plt.plot(x_vals, f(x_vals))\n",
        "plt.plot(x_vals, np.zeros(len(x_vals)))\n",
        "plt.plot(vals, [f(val) for val in vals], 'rx', alpha = 1)\n",
        "plt.xlabel('x')\n",
        "plt.ylabel('f(x)')\n",
        "plt.title(\"Newton's Descent\")\n",
        "plt.show()"
      ],
      "execution_count": 36,
      "outputs": [
        {
          "output_type": "display_data",
          "data": {
            "image/png": "[encoded data removed]",
            "text/plain": [
              "<Figure size 432x288 with 1 Axes>"
            ]
          },
          "metadata": {
            "needs_background": "light"
          }
        }
      ]
    },
    {
      "cell_type": "markdown",
      "source": [
        "Comparison:\n",
        "\n",
        "* Gradient Descent takes 17006 steps whereas Newton's Mehtod takes only 2 steps to converge. Newton's Method is super fast.\n",
        "* Gradient Descent converges to proximity of -2.5. Converges to -2.54. Whereas Newton's mehod converges to exact -2.5"
      ],
      "metadata": {
        "id": "-au6BUyS-o31"
      }
    },
    {
      "cell_type": "markdown",
      "metadata": {
        "id": "ae_i1xv3akJm"
      },
      "source": [
        "## **Using Grad-descent and Newton's Method on a new function**"
      ]
    },
    {
      "cell_type": "code",
      "metadata": {
        "id": "_yztoxLFZOMv"
      },
      "source": [
        "# Creating a new function\n",
        "\n",
        "def f2(x):\n",
        "  return x**3 + 5*x**2 - 3*x + 10"
      ],
      "execution_count": 37,
      "outputs": []
    },
    {
      "cell_type": "code",
      "metadata": {
        "id": "bmJ0bod4Z3XY"
      },
      "source": [
        "# Derivative of the new function\n",
        "\n",
        "def f2_prime(x):\n",
        "  return 3*x**2 + 10*x -3"
      ],
      "execution_count": 38,
      "outputs": []
    },
    {
      "cell_type": "code",
      "metadata": {
        "id": "ITNNuZpKaAqb"
      },
      "source": [
        "# Second Derivative of the new function\n",
        "\n",
        "def f2_double_prime(x):\n",
        "  return 6*x +10"
      ],
      "execution_count": 39,
      "outputs": []
    },
    {
      "cell_type": "code",
      "metadata": {
        "id": "XUg4JQayZVQ4"
      },
      "source": [
        "# x values\n",
        "\n",
        "x_vals = np.linspace(-12, 10, 100)"
      ],
      "execution_count": 40,
      "outputs": []
    },
    {
      "cell_type": "code",
      "metadata": {
        "colab": {
          "base_uri": "https://localhost:8080/"
        },
        "id": "7d5D6VHtfBsl",
        "outputId": "3b6b8a9c-8345-418c-b516-a16d48e324f6"
      },
      "source": [
        "f2_prime(-7)"
      ],
      "execution_count": 41,
      "outputs": [
        {
          "output_type": "execute_result",
          "data": {
            "text/plain": [
              "74"
            ]
          },
          "metadata": {},
          "execution_count": 41
        }
      ]
    },
    {
      "cell_type": "code",
      "metadata": {
        "colab": {
          "base_uri": "https://localhost:8080/",
          "height": 279
        },
        "id": "4VwshPEAZb0d",
        "outputId": "5f34d0f7-dd88-4fa7-f400-1b337b535d0c"
      },
      "source": [
        "# Plotting new function\n",
        "\n",
        "plt.plot(x_vals, f2(x_vals))\n",
        "plt.xlabel('x')\n",
        "plt.ylabel('f(x)')\n",
        "plt.show()"
      ],
      "execution_count": 42,
      "outputs": [
        {
          "output_type": "display_data",
          "data": {
            "image/png": "[encoded data removed]",
            "text/plain": [
              "<Figure size 432x288 with 1 Axes>"
            ]
          },
          "metadata": {
            "needs_background": "light"
          }
        }
      ]
    },
    {
      "cell_type": "code",
      "metadata": {
        "colab": {
          "base_uri": "https://localhost:8080/",
          "height": 295
        },
        "id": "KFRJSoYSZflv",
        "outputId": "c2fa1c8a-1962-4f09-d8d8-9255917ceaef"
      },
      "source": [
        "# Using Gradient Descent on the new function\n",
        "\n",
        "vals = grad_descent(7, f2_prime)\n",
        "\n",
        "plt.plot(x_vals, f2(x_vals))\n",
        "plt.plot(x_vals, np.zeros(len(x_vals)))\n",
        "plt.plot(vals, [f2(val) for val in vals], 'rx', alpha = 0.1)\n",
        "\n",
        "plt.xlabel('x')\n",
        "plt.ylabel('f(x)')\n",
        "plt.title('Gradient Descent')\n",
        "plt.show()"
      ],
      "execution_count": 43,
      "outputs": [
        {
          "output_type": "display_data",
          "data": {
            "image/png": "[encoded data removed]",
            "text/plain": [
              "<Figure size 432x288 with 1 Axes>"
            ]
          },
          "metadata": {
            "needs_background": "light"
          }
        }
      ]
    },
    {
      "cell_type": "code",
      "metadata": {
        "colab": {
          "base_uri": "https://localhost:8080/"
        },
        "id": "51fwwB7hbeDx",
        "outputId": "7a7e7657-48f8-4a85-ad95-fd970b7d9e01"
      },
      "source": [
        "print('Number of steps taken by gradient descent to converge :',len(vals))\n",
        "print('Value of x when gradient descent has converged :', vals[-1])"
      ],
      "execution_count": 44,
      "outputs": [
        {
          "output_type": "stream",
          "name": "stdout",
          "text": [
            "Number of steps taken by gradient descent to converge : 4855\n",
            "Value of x when gradient descent has converged : 0.28552636123211916\n"
          ]
        }
      ]
    },
    {
      "cell_type": "code",
      "metadata": {
        "id": "aV2sdmAjbpSv",
        "colab": {
          "base_uri": "https://localhost:8080/"
        },
        "outputId": "4b8d7f39-62cf-4322-da29-701f534c6ecd"
      },
      "source": [
        "# Using Newton's Method on the new function\n",
        "\n",
        "vals = newton_descent(7, f2, f2_prime, f2_double_prime)"
      ],
      "execution_count": 45,
      "outputs": [
        {
          "output_type": "stream",
          "name": "stdout",
          "text": [
            "iteration --------------------------- :: 0\n",
            "current = 6.9999\n",
            "move = 4.115332100562698\n",
            "new = 2.884567899437302\n",
            "iteration --------------------------- :: 1\n",
            "current = 2.884567899437302\n",
            "move = 1.860589478737813\n",
            "new = 1.023978420699489\n",
            "iteration --------------------------- :: 2\n",
            "current = 1.023978420699489\n",
            "move = 0.6433017168716524\n",
            "new = 0.3806767038278367\n",
            "iteration --------------------------- :: 3\n",
            "current = 0.3806767038278367\n",
            "move = 0.10106685202249678\n",
            "new = 0.2796098518053399\n",
            "iteration --------------------------- :: 4\n",
            "current = 0.2796098518053399\n",
            "move = 0.0026241154534804912\n",
            "new = 0.2769857363518594\n",
            "iteration --------------------------- :: 5\n",
            "current = 0.2769857363518594\n",
            "move = 1.7714026187049572e-06\n",
            "new = 0.2769839649492407\n"
          ]
        }
      ]
    },
    {
      "cell_type": "code",
      "metadata": {
        "colab": {
          "base_uri": "https://localhost:8080/",
          "height": 295
        },
        "id": "SGHK9S7Sch07",
        "outputId": "23f19f03-9e90-41f1-dab6-260366f58f50"
      },
      "source": [
        "#Plotting Newton's Descent\n",
        "\n",
        "plt.plot(x_vals, f2(x_vals))\n",
        "plt.plot(x_vals, np.zeros(len(x_vals)))\n",
        "plt.plot(vals, [f2(val) for val in vals], 'rx', alpha = 1)\n",
        "plt.xlabel('x')\n",
        "plt.ylabel('f(x)')\n",
        "plt.title(\"Newton's Descent\")\n",
        "plt.show()"
      ],
      "execution_count": 47,
      "outputs": [
        {
          "output_type": "display_data",
          "data": {
            "image/png": "[encoded data removed]",
            "text/plain": [
              "<Figure size 432x288 with 1 Axes>"
            ]
          },
          "metadata": {
            "needs_background": "light"
          }
        }
      ]
    },
    {
      "cell_type": "code",
      "metadata": {
        "colab": {
          "base_uri": "https://localhost:8080/",
          "height": 317
        },
        "id": "aFnih7eucU6h",
        "outputId": "f8ef2932-b54a-424d-9c9c-82a5b339f03b"
      },
      "source": [
        "plt.plot(vals)\n",
        "plt.xlabel('Number of iterations')\n",
        "plt.ylabel('New value of x at each step')\n",
        "print('Number of steps taken by gradient descent to converge :',len(vals))\n",
        "print('Value of x when gradient descent has converged :', vals[-1])"
      ],
      "execution_count": 46,
      "outputs": [
        {
          "output_type": "stream",
          "name": "stdout",
          "text": [
            "Number of steps taken by gradient descent to converge : 6\n",
            "Value of x when gradient descent has converged : 0.2769839649492407\n"
          ]
        },
        {
          "output_type": "display_data",
          "data": {
            "image/png": "[encoded data removed]",
            "text/plain": [
              "<Figure size 432x288 with 1 Axes>"
            ]
          },
          "metadata": {
            "needs_background": "light"
          }
        }
      ]
    },
    {
      "cell_type": "markdown",
      "source": [
        "For this funtion also Newton's Method (6 steps) is superfast than Gradient Descent (4855 steps).\n",
        "\n",
        "**Newton’s method typically enjoys faster convergence than (batch) gradient descent, and requires many fewer iterations to get very close to the\n",
        "minimum. One iteration of Newton’s can, however, be more expensive than\n",
        "one iteration of gradient descent, since it requires finding and inverting an\n",
        "d-by-d Hessian(for second order derivatives); but so long as d is not too large, it is usually much faster.**"
      ],
      "metadata": {
        "id": "jw3l-4Z4Axwz"
      }
    }
  ]
}